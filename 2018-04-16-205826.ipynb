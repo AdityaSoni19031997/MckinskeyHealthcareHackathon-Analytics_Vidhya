{
 "cells": [
  {
   "cell_type": "code",
   "execution_count": 1,
   "metadata": {
    "collapsed": false
   },
   "outputs": [
   ],
   "source": [
    "import pandas as pd"
   ]
  },
  {
   "cell_type": "code",
   "execution_count": 2,
   "metadata": {
    "collapsed": false
   },
   "outputs": [
   ],
   "source": [
    "train = pd.read_csv('train.csv')\n",
    "test = pd.read_csv('test.csv')"
   ]
  },
  {
   "cell_type": "code",
   "execution_count": 3,
   "metadata": {
    "collapsed": false
   },
   "outputs": [
    {
     "name": "stdout",
     "output_type": "stream",
     "text": [
      "                 id           age  hypertension  heart_disease  \\\n",
      "count  43400.000000  43400.000000  43400.000000   43400.000000   \n",
      "mean   36326.142350     42.217894      0.093571       0.047512   \n",
      "std    21072.134879     22.519649      0.291235       0.212733   \n",
      "min        1.000000      0.080000      0.000000       0.000000   \n",
      "25%    18038.500000     24.000000      0.000000       0.000000   \n",
      "50%    36351.500000     44.000000      0.000000       0.000000   \n",
      "75%    54514.250000     60.000000      0.000000       0.000000   \n",
      "max    72943.000000     82.000000      1.000000       1.000000   \n",
      "\n",
      "       avg_glucose_level           bmi        stroke  \n",
      "count       43400.000000  41938.000000  43400.000000  \n",
      "mean          104.482750     28.605038      0.018041  \n",
      "std            43.111751      7.770020      0.133103  \n",
      "min            55.000000     10.100000      0.000000  \n",
      "25%            77.540000     23.200000      0.000000  \n",
      "50%            91.580000     27.700000      0.000000  \n",
      "75%           112.070000     32.900000      0.000000  \n",
      "max           291.050000     97.600000      1.000000  \n"
     ]
    }
   ],
   "source": [
    "print(train.describe())"
   ]
  },
  {
   "cell_type": "code",
   "execution_count": 0,
   "metadata": {
    "collapsed": false
   },
   "outputs": [
   ],
   "source": [
   ]
  }
 ],
 "metadata": {
  "kernelspec": {
   "display_name": "Python 3 (Anaconda)",
   "language": "python",
   "name": "anaconda3"
  }
 },
 "nbformat": 4,
 "nbformat_minor": 0
}